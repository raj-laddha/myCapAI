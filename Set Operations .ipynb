{
 "cells": [
  {
   "cell_type": "markdown",
   "metadata": {},
   "source": [
    "# Program to illustrate set operations"
   ]
  },
  {
   "cell_type": "code",
   "execution_count": 1,
   "metadata": {},
   "outputs": [],
   "source": [
    "# creating two sets \n",
    "setEven = {0, 2, 4, 6, 8, 10}\n",
    "setNatural = {1, 2, 3, 4, 5, 6, 7, 8, 9, 10}"
   ]
  },
  {
   "cell_type": "code",
   "execution_count": 2,
   "metadata": {},
   "outputs": [
    {
     "name": "stdout",
     "output_type": "stream",
     "text": [
      "Union of setEven and setNatural:  {0, 1, 2, 3, 4, 5, 6, 7, 8, 9, 10} \n",
      "\n",
      "Intersection of setEven and setNatural:  {2, 4, 6, 8, 10} \n",
      "\n",
      "Difference of setNatural and setEven:  {1, 3, 5, 7, 9} \n",
      "\n",
      "Symmetric Difference of setNatural and setEven:  {0, 1, 3, 5, 7, 9} \n",
      "\n"
     ]
    }
   ],
   "source": [
    "# Union Operation\n",
    "print('Union of setEven and setNatural: ', setEven.union(setNatural) ,'\\n')\n",
    "\n",
    "# Intersection Opertaion\n",
    "print('Intersection of setEven and setNatural: ', setEven.intersection(setNatural), '\\n')\n",
    "\n",
    "# Difference Opertaion\n",
    "print('Difference of setNatural and setEven: ', setNatural.difference(setEven), '\\n')\n",
    "\n",
    "# Symmetric Difference Opertaion\n",
    "print('Symmetric Difference of setNatural and setEven: ', setNatural.symmetric_difference(setEven), '\\n')"
   ]
  },
  {
   "cell_type": "code",
   "execution_count": null,
   "metadata": {},
   "outputs": [],
   "source": []
  }
 ],
 "metadata": {
  "kernelspec": {
   "display_name": "Python 3",
   "language": "python",
   "name": "python3"
  },
  "language_info": {
   "codemirror_mode": {
    "name": "ipython",
    "version": 3
   },
   "file_extension": ".py",
   "mimetype": "text/x-python",
   "name": "python",
   "nbconvert_exporter": "python",
   "pygments_lexer": "ipython3",
   "version": "3.8.10"
  }
 },
 "nbformat": 4,
 "nbformat_minor": 4
}
