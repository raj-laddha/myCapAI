{
 "cells": [
  {
   "cell_type": "markdown",
   "metadata": {},
   "source": [
    "# Program to print all positive numbers in a range"
   ]
  },
  {
   "cell_type": "code",
   "execution_count": 1,
   "metadata": {},
   "outputs": [],
   "source": [
    "# function to print positive numbers in a range\n",
    "def print_positive_in_range(input_range):\n",
    "    \n",
    "    output = []\n",
    "    \n",
    "    # iterating over the range\n",
    "    for number in input_range:\n",
    "        \n",
    "        # check if positive\n",
    "        if number > 0:\n",
    "            output.append(number)\n",
    "            \n",
    "    print(output)"
   ]
  },
  {
   "cell_type": "code",
   "execution_count": 2,
   "metadata": {},
   "outputs": [
    {
     "name": "stdout",
     "output_type": "stream",
     "text": [
      "Input:  [12, -7, 5, 64, -14]\n",
      "Output: [12, 5, 64]\n",
      "\n",
      "Input:  [12, 14, -95, 3]\n",
      "Output: [12, 14, 3]\n"
     ]
    }
   ],
   "source": [
    "list1 = [12, -7, 5, 64, -14]\n",
    "list2 = [12, 14, -95, 3]\n",
    "\n",
    "print(\"Input: \", list1)\n",
    "print(\"Output: \", end=\"\")\n",
    "print_positive_in_range(list1)\n",
    "\n",
    "print(\"\\nInput: \", list2)\n",
    "print(\"Output: \", end=\"\")\n",
    "print_positive_in_range(list2)"
   ]
  },
  {
   "cell_type": "code",
   "execution_count": null,
   "metadata": {},
   "outputs": [],
   "source": []
  }
 ],
 "metadata": {
  "kernelspec": {
   "display_name": "Python 3",
   "language": "python",
   "name": "python3"
  },
  "language_info": {
   "codemirror_mode": {
    "name": "ipython",
    "version": 3
   },
   "file_extension": ".py",
   "mimetype": "text/x-python",
   "name": "python",
   "nbconvert_exporter": "python",
   "pygments_lexer": "ipython3",
   "version": "3.8.10"
  }
 },
 "nbformat": 4,
 "nbformat_minor": 4
}
