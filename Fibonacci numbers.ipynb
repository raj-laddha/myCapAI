{
 "cells": [
  {
   "cell_type": "markdown",
   "metadata": {},
   "source": [
    "# Program to display first n Fibonacci numbers"
   ]
  },
  {
   "cell_type": "code",
   "execution_count": 1,
   "metadata": {},
   "outputs": [],
   "source": [
    "# function to display first n fibonacci numbers\n",
    "def print_n_fibonacci(n):\n",
    "    \n",
    "    # handling the edge cases\n",
    "    if n <= 0:\n",
    "        return\n",
    "    \n",
    "    if n == 1:\n",
    "        print('0')\n",
    "        return\n",
    "    \n",
    "    if n == 2:\n",
    "        print('0, 1')\n",
    "        return\n",
    "    \n",
    "    # first two numbers\n",
    "    firstNum = 0\n",
    "    secondNum = 1\n",
    "    \n",
    "    n -=2\n",
    "    \n",
    "    # displaying the first two numbers\n",
    "    print(0, 1, end=\", \")\n",
    "    \n",
    "    for num in range(n):\n",
    "        \n",
    "        # finding the next number\n",
    "        sumOfPreviousTwo = firstNum + secondNum \n",
    "        \n",
    "        # print the number\n",
    "        if num == n-1:\n",
    "            print(sumOfPreviousTwo)\n",
    "        else:\n",
    "            print(sumOfPreviousTwo, end=\", \")\n",
    "        \n",
    "        # updating the previous two numbers\n",
    "        firstNum = secondNum\n",
    "        secondNum = sumOfPreviousTwo"
   ]
  },
  {
   "cell_type": "code",
   "execution_count": 2,
   "metadata": {},
   "outputs": [
    {
     "name": "stdout",
     "output_type": "stream",
     "text": [
      "First 2 fibonacci numbers: \n",
      "0, 1\n",
      "\n",
      "First 5 fibonacci numbers: \n",
      "0 1, 1, 2, 3\n",
      "\n",
      "First 50 fibonacci numbers: \n",
      "0 1, 1, 2, 3, 5, 8, 13, 21, 34, 55, 89, 144, 233, 377, 610, 987, 1597, 2584, 4181, 6765, 10946, 17711, 28657, 46368, 75025, 121393, 196418, 317811, 514229, 832040, 1346269, 2178309, 3524578, 5702887, 9227465, 14930352, 24157817, 39088169, 63245986, 102334155, 165580141, 267914296, 433494437, 701408733, 1134903170, 1836311903, 2971215073, 4807526976, 7778742049\n"
     ]
    }
   ],
   "source": [
    "print('First 2 fibonacci numbers: ')\n",
    "print_n_fibonacci(2)\n",
    "\n",
    "print('\\nFirst 5 fibonacci numbers: ')\n",
    "print_n_fibonacci(5)\n",
    "\n",
    "print('\\nFirst 50 fibonacci numbers: ')\n",
    "print_n_fibonacci(50)"
   ]
  },
  {
   "cell_type": "code",
   "execution_count": null,
   "metadata": {},
   "outputs": [],
   "source": []
  }
 ],
 "metadata": {
  "kernelspec": {
   "display_name": "Python 3",
   "language": "python",
   "name": "python3"
  },
  "language_info": {
   "codemirror_mode": {
    "name": "ipython",
    "version": 3
   },
   "file_extension": ".py",
   "mimetype": "text/x-python",
   "name": "python",
   "nbconvert_exporter": "python",
   "pygments_lexer": "ipython3",
   "version": "3.8.10"
  }
 },
 "nbformat": 4,
 "nbformat_minor": 4
}
